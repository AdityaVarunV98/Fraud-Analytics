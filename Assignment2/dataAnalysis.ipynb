{
 "cells": [
  {
   "cell_type": "code",
   "execution_count": 2,
   "metadata": {},
   "outputs": [],
   "source": [
    "import pandas as pd"
   ]
  },
  {
   "cell_type": "code",
   "execution_count": 3,
   "metadata": {},
   "outputs": [],
   "source": [
    "df = pd.read_csv('Data/costSensitive.csv')"
   ]
  },
  {
   "cell_type": "code",
   "execution_count": 4,
   "metadata": {},
   "outputs": [
    {
     "name": "stdout",
     "output_type": "stream",
     "text": [
      "(147636, 13)\n"
     ]
    }
   ],
   "source": [
    "print(df.shape)"
   ]
  },
  {
   "cell_type": "code",
   "execution_count": 7,
   "metadata": {},
   "outputs": [
    {
     "data": {
      "text/html": [
       "<div>\n",
       "<style scoped>\n",
       "    .dataframe tbody tr th:only-of-type {\n",
       "        vertical-align: middle;\n",
       "    }\n",
       "\n",
       "    .dataframe tbody tr th {\n",
       "        vertical-align: top;\n",
       "    }\n",
       "\n",
       "    .dataframe thead th {\n",
       "        text-align: right;\n",
       "    }\n",
       "</style>\n",
       "<table border=\"1\" class=\"dataframe\">\n",
       "  <thead>\n",
       "    <tr style=\"text-align: right;\">\n",
       "      <th></th>\n",
       "      <th>NotCount</th>\n",
       "      <th>YesCount</th>\n",
       "      <th>ATPM</th>\n",
       "      <th>PFD</th>\n",
       "      <th>PFG</th>\n",
       "      <th>SFD</th>\n",
       "      <th>SFG</th>\n",
       "      <th>WP</th>\n",
       "      <th>WS</th>\n",
       "      <th>AH</th>\n",
       "      <th>AN</th>\n",
       "      <th>Status</th>\n",
       "      <th>FNC</th>\n",
       "    </tr>\n",
       "  </thead>\n",
       "  <tbody>\n",
       "    <tr>\n",
       "      <th>147631</th>\n",
       "      <td>4</td>\n",
       "      <td>19</td>\n",
       "      <td>1.0</td>\n",
       "      <td>1.09306</td>\n",
       "      <td>4.25256</td>\n",
       "      <td>0.0</td>\n",
       "      <td>0.0000</td>\n",
       "      <td>21.946737</td>\n",
       "      <td>2.679667</td>\n",
       "      <td>0.0</td>\n",
       "      <td>0.0</td>\n",
       "      <td>0</td>\n",
       "      <td>6.092077e+05</td>\n",
       "    </tr>\n",
       "    <tr>\n",
       "      <th>147632</th>\n",
       "      <td>16</td>\n",
       "      <td>7</td>\n",
       "      <td>1.0</td>\n",
       "      <td>0.00000</td>\n",
       "      <td>0.00000</td>\n",
       "      <td>0.0</td>\n",
       "      <td>0.0000</td>\n",
       "      <td>0.000000</td>\n",
       "      <td>2.549239</td>\n",
       "      <td>0.0</td>\n",
       "      <td>0.0</td>\n",
       "      <td>0</td>\n",
       "      <td>6.996571e+05</td>\n",
       "    </tr>\n",
       "    <tr>\n",
       "      <th>147633</th>\n",
       "      <td>2</td>\n",
       "      <td>21</td>\n",
       "      <td>1.0</td>\n",
       "      <td>4.64145</td>\n",
       "      <td>5.47616</td>\n",
       "      <td>0.0</td>\n",
       "      <td>25.5783</td>\n",
       "      <td>48.283019</td>\n",
       "      <td>2.442827</td>\n",
       "      <td>0.0</td>\n",
       "      <td>0.0</td>\n",
       "      <td>0</td>\n",
       "      <td>9.658214e+05</td>\n",
       "    </tr>\n",
       "    <tr>\n",
       "      <th>147634</th>\n",
       "      <td>3</td>\n",
       "      <td>20</td>\n",
       "      <td>1.0</td>\n",
       "      <td>0.00000</td>\n",
       "      <td>0.40989</td>\n",
       "      <td>0.0</td>\n",
       "      <td>0.0000</td>\n",
       "      <td>0.694601</td>\n",
       "      <td>4.078739</td>\n",
       "      <td>0.0</td>\n",
       "      <td>0.0</td>\n",
       "      <td>0</td>\n",
       "      <td>1.612465e+06</td>\n",
       "    </tr>\n",
       "    <tr>\n",
       "      <th>147635</th>\n",
       "      <td>6</td>\n",
       "      <td>17</td>\n",
       "      <td>1.0</td>\n",
       "      <td>3.16026</td>\n",
       "      <td>4.86214</td>\n",
       "      <td>0.0</td>\n",
       "      <td>0.0000</td>\n",
       "      <td>19.958639</td>\n",
       "      <td>2.077415</td>\n",
       "      <td>0.0</td>\n",
       "      <td>0.0</td>\n",
       "      <td>0</td>\n",
       "      <td>1.703186e+06</td>\n",
       "    </tr>\n",
       "  </tbody>\n",
       "</table>\n",
       "</div>"
      ],
      "text/plain": [
       "        NotCount  YesCount  ATPM      PFD      PFG  SFD      SFG         WP  \\\n",
       "147631         4        19   1.0  1.09306  4.25256  0.0   0.0000  21.946737   \n",
       "147632        16         7   1.0  0.00000  0.00000  0.0   0.0000   0.000000   \n",
       "147633         2        21   1.0  4.64145  5.47616  0.0  25.5783  48.283019   \n",
       "147634         3        20   1.0  0.00000  0.40989  0.0   0.0000   0.694601   \n",
       "147635         6        17   1.0  3.16026  4.86214  0.0   0.0000  19.958639   \n",
       "\n",
       "              WS   AH   AN  Status           FNC  \n",
       "147631  2.679667  0.0  0.0       0  6.092077e+05  \n",
       "147632  2.549239  0.0  0.0       0  6.996571e+05  \n",
       "147633  2.442827  0.0  0.0       0  9.658214e+05  \n",
       "147634  4.078739  0.0  0.0       0  1.612465e+06  \n",
       "147635  2.077415  0.0  0.0       0  1.703186e+06  "
      ]
     },
     "execution_count": 7,
     "metadata": {},
     "output_type": "execute_result"
    }
   ],
   "source": [
    "df.tail()"
   ]
  },
  {
   "cell_type": "code",
   "execution_count": 12,
   "metadata": {},
   "outputs": [
    {
     "name": "stdout",
     "output_type": "stream",
     "text": [
      "(65738, 13)\n"
     ]
    }
   ],
   "source": [
    "# Shows high costs      \n",
    "t = 20\n",
    "print(df[df['FNC'] > t].shape)"
   ]
  },
  {
   "cell_type": "code",
   "execution_count": 13,
   "metadata": {},
   "outputs": [
    {
     "data": {
      "text/plain": [
       "Status\n",
       "0    103554\n",
       "1     44082\n",
       "Name: count, dtype: int64"
      ]
     },
     "execution_count": 13,
     "metadata": {},
     "output_type": "execute_result"
    }
   ],
   "source": [
    "# Data Imbalance\n",
    "df[\"Status\"].value_counts()"
   ]
  },
  {
   "cell_type": "code",
   "execution_count": 15,
   "metadata": {},
   "outputs": [
    {
     "name": "stdout",
     "output_type": "stream",
     "text": [
      "<class 'pandas.core.frame.DataFrame'>\n",
      "RangeIndex: 147636 entries, 0 to 147635\n",
      "Data columns (total 13 columns):\n",
      " #   Column    Non-Null Count   Dtype  \n",
      "---  ------    --------------   -----  \n",
      " 0   NotCount  147636 non-null  int64  \n",
      " 1   YesCount  147636 non-null  int64  \n",
      " 2   ATPM      147636 non-null  float64\n",
      " 3   PFD       147636 non-null  float64\n",
      " 4   PFG       147636 non-null  float64\n",
      " 5   SFD       147636 non-null  float64\n",
      " 6   SFG       147636 non-null  float64\n",
      " 7   WP        147636 non-null  float64\n",
      " 8   WS        147636 non-null  float64\n",
      " 9   AH        147636 non-null  float64\n",
      " 10  AN        147636 non-null  float64\n",
      " 11  Status    147636 non-null  int64  \n",
      " 12  FNC       147636 non-null  float64\n",
      "dtypes: float64(10), int64(3)\n",
      "memory usage: 14.6 MB\n"
     ]
    }
   ],
   "source": [
    "df.info()"
   ]
  },
  {
   "cell_type": "code",
   "execution_count": 17,
   "metadata": {},
   "outputs": [
    {
     "data": {
      "text/html": [
       "<div>\n",
       "<style scoped>\n",
       "    .dataframe tbody tr th:only-of-type {\n",
       "        vertical-align: middle;\n",
       "    }\n",
       "\n",
       "    .dataframe tbody tr th {\n",
       "        vertical-align: top;\n",
       "    }\n",
       "\n",
       "    .dataframe thead th {\n",
       "        text-align: right;\n",
       "    }\n",
       "</style>\n",
       "<table border=\"1\" class=\"dataframe\">\n",
       "  <thead>\n",
       "    <tr style=\"text-align: right;\">\n",
       "      <th></th>\n",
       "      <th>NotCount</th>\n",
       "      <th>YesCount</th>\n",
       "      <th>ATPM</th>\n",
       "      <th>PFD</th>\n",
       "      <th>PFG</th>\n",
       "      <th>SFD</th>\n",
       "      <th>SFG</th>\n",
       "      <th>WP</th>\n",
       "      <th>WS</th>\n",
       "      <th>AH</th>\n",
       "      <th>AN</th>\n",
       "      <th>Status</th>\n",
       "      <th>FNC</th>\n",
       "    </tr>\n",
       "  </thead>\n",
       "  <tbody>\n",
       "    <tr>\n",
       "      <th>count</th>\n",
       "      <td>147636.000000</td>\n",
       "      <td>147636.000000</td>\n",
       "      <td>147636.000000</td>\n",
       "      <td>147636.000000</td>\n",
       "      <td>147636.000000</td>\n",
       "      <td>147636.000000</td>\n",
       "      <td>147636.000000</td>\n",
       "      <td>147636.000000</td>\n",
       "      <td>147636.000000</td>\n",
       "      <td>147636.000000</td>\n",
       "      <td>147636.000000</td>\n",
       "      <td>147636.000000</td>\n",
       "      <td>1.476360e+05</td>\n",
       "    </tr>\n",
       "    <tr>\n",
       "      <th>mean</th>\n",
       "      <td>7.722107</td>\n",
       "      <td>15.220908</td>\n",
       "      <td>0.253245</td>\n",
       "      <td>0.027062</td>\n",
       "      <td>0.050789</td>\n",
       "      <td>0.021648</td>\n",
       "      <td>0.071709</td>\n",
       "      <td>0.271927</td>\n",
       "      <td>0.493587</td>\n",
       "      <td>0.045045</td>\n",
       "      <td>0.013474</td>\n",
       "      <td>0.298586</td>\n",
       "      <td>5.334049e+02</td>\n",
       "    </tr>\n",
       "    <tr>\n",
       "      <th>std</th>\n",
       "      <td>7.574278</td>\n",
       "      <td>7.596921</td>\n",
       "      <td>0.366280</td>\n",
       "      <td>0.335509</td>\n",
       "      <td>0.373370</td>\n",
       "      <td>0.298285</td>\n",
       "      <td>1.135755</td>\n",
       "      <td>2.432425</td>\n",
       "      <td>0.763389</td>\n",
       "      <td>0.182274</td>\n",
       "      <td>0.100973</td>\n",
       "      <td>0.457639</td>\n",
       "      <td>8.774011e+03</td>\n",
       "    </tr>\n",
       "    <tr>\n",
       "      <th>min</th>\n",
       "      <td>0.000000</td>\n",
       "      <td>0.000000</td>\n",
       "      <td>0.000000</td>\n",
       "      <td>0.000000</td>\n",
       "      <td>0.000000</td>\n",
       "      <td>0.000000</td>\n",
       "      <td>0.000000</td>\n",
       "      <td>0.000000</td>\n",
       "      <td>0.000000</td>\n",
       "      <td>0.000000</td>\n",
       "      <td>0.000000</td>\n",
       "      <td>0.000000</td>\n",
       "      <td>0.000000e+00</td>\n",
       "    </tr>\n",
       "    <tr>\n",
       "      <th>25%</th>\n",
       "      <td>2.000000</td>\n",
       "      <td>10.000000</td>\n",
       "      <td>0.001084</td>\n",
       "      <td>0.000000</td>\n",
       "      <td>0.000000</td>\n",
       "      <td>0.000000</td>\n",
       "      <td>0.000000</td>\n",
       "      <td>0.000000</td>\n",
       "      <td>0.000000</td>\n",
       "      <td>0.000000</td>\n",
       "      <td>0.000000</td>\n",
       "      <td>0.000000</td>\n",
       "      <td>2.820820e-01</td>\n",
       "    </tr>\n",
       "    <tr>\n",
       "      <th>50%</th>\n",
       "      <td>4.000000</td>\n",
       "      <td>19.000000</td>\n",
       "      <td>0.033354</td>\n",
       "      <td>0.000000</td>\n",
       "      <td>0.000000</td>\n",
       "      <td>0.000000</td>\n",
       "      <td>0.000000</td>\n",
       "      <td>0.000000</td>\n",
       "      <td>0.097875</td>\n",
       "      <td>0.000000</td>\n",
       "      <td>0.000000</td>\n",
       "      <td>0.000000</td>\n",
       "      <td>1.183562e+01</td>\n",
       "    </tr>\n",
       "    <tr>\n",
       "      <th>75%</th>\n",
       "      <td>13.000000</td>\n",
       "      <td>21.000000</td>\n",
       "      <td>0.394372</td>\n",
       "      <td>0.000000</td>\n",
       "      <td>0.000000</td>\n",
       "      <td>0.000000</td>\n",
       "      <td>0.000000</td>\n",
       "      <td>0.061840</td>\n",
       "      <td>0.880929</td>\n",
       "      <td>0.000000</td>\n",
       "      <td>0.000000</td>\n",
       "      <td>1.000000</td>\n",
       "      <td>1.069840e+02</td>\n",
       "    </tr>\n",
       "    <tr>\n",
       "      <th>max</th>\n",
       "      <td>23.000000</td>\n",
       "      <td>22.000000</td>\n",
       "      <td>1.000000</td>\n",
       "      <td>79.837480</td>\n",
       "      <td>51.944780</td>\n",
       "      <td>61.556900</td>\n",
       "      <td>209.021870</td>\n",
       "      <td>399.606420</td>\n",
       "      <td>5.000000</td>\n",
       "      <td>1.000000</td>\n",
       "      <td>1.000000</td>\n",
       "      <td>1.000000</td>\n",
       "      <td>1.703186e+06</td>\n",
       "    </tr>\n",
       "  </tbody>\n",
       "</table>\n",
       "</div>"
      ],
      "text/plain": [
       "            NotCount       YesCount           ATPM            PFD  \\\n",
       "count  147636.000000  147636.000000  147636.000000  147636.000000   \n",
       "mean        7.722107      15.220908       0.253245       0.027062   \n",
       "std         7.574278       7.596921       0.366280       0.335509   \n",
       "min         0.000000       0.000000       0.000000       0.000000   \n",
       "25%         2.000000      10.000000       0.001084       0.000000   \n",
       "50%         4.000000      19.000000       0.033354       0.000000   \n",
       "75%        13.000000      21.000000       0.394372       0.000000   \n",
       "max        23.000000      22.000000       1.000000      79.837480   \n",
       "\n",
       "                 PFG            SFD            SFG             WP  \\\n",
       "count  147636.000000  147636.000000  147636.000000  147636.000000   \n",
       "mean        0.050789       0.021648       0.071709       0.271927   \n",
       "std         0.373370       0.298285       1.135755       2.432425   \n",
       "min         0.000000       0.000000       0.000000       0.000000   \n",
       "25%         0.000000       0.000000       0.000000       0.000000   \n",
       "50%         0.000000       0.000000       0.000000       0.000000   \n",
       "75%         0.000000       0.000000       0.000000       0.061840   \n",
       "max        51.944780      61.556900     209.021870     399.606420   \n",
       "\n",
       "                  WS             AH             AN         Status  \\\n",
       "count  147636.000000  147636.000000  147636.000000  147636.000000   \n",
       "mean        0.493587       0.045045       0.013474       0.298586   \n",
       "std         0.763389       0.182274       0.100973       0.457639   \n",
       "min         0.000000       0.000000       0.000000       0.000000   \n",
       "25%         0.000000       0.000000       0.000000       0.000000   \n",
       "50%         0.097875       0.000000       0.000000       0.000000   \n",
       "75%         0.880929       0.000000       0.000000       1.000000   \n",
       "max         5.000000       1.000000       1.000000       1.000000   \n",
       "\n",
       "                FNC  \n",
       "count  1.476360e+05  \n",
       "mean   5.334049e+02  \n",
       "std    8.774011e+03  \n",
       "min    0.000000e+00  \n",
       "25%    2.820820e-01  \n",
       "50%    1.183562e+01  \n",
       "75%    1.069840e+02  \n",
       "max    1.703186e+06  "
      ]
     },
     "execution_count": 17,
     "metadata": {},
     "output_type": "execute_result"
    }
   ],
   "source": [
    "# All are continuous values\n",
    "\n",
    "df.describe()"
   ]
  },
  {
   "cell_type": "code",
   "execution_count": 18,
   "metadata": {},
   "outputs": [
    {
     "data": {
      "text/plain": [
       "AH\n",
       "0.000000    128122\n",
       "1.000000      3651\n",
       "0.000031       122\n",
       "0.000186       104\n",
       "0.000557        70\n",
       "             ...  \n",
       "0.423351         1\n",
       "0.269309         1\n",
       "0.422267         1\n",
       "0.140694         1\n",
       "0.916507         1\n",
       "Name: count, Length: 8387, dtype: int64"
      ]
     },
     "execution_count": 18,
     "metadata": {},
     "output_type": "execute_result"
    }
   ],
   "source": [
    "df['AH'].value_counts()"
   ]
  },
  {
   "cell_type": "code",
   "execution_count": 19,
   "metadata": {},
   "outputs": [
    {
     "data": {
      "text/plain": [
       "AN\n",
       "0.000000    138873\n",
       "1.000000      1083\n",
       "0.000186       101\n",
       "0.000557        84\n",
       "0.000031        80\n",
       "             ...  \n",
       "0.222639         1\n",
       "0.044534         1\n",
       "0.125271         1\n",
       "0.286621         1\n",
       "0.993682         1\n",
       "Name: count, Length: 3610, dtype: int64"
      ]
     },
     "execution_count": 19,
     "metadata": {},
     "output_type": "execute_result"
    }
   ],
   "source": [
    "df['AN'].value_counts()"
   ]
  },
  {
   "cell_type": "code",
   "execution_count": 20,
   "metadata": {},
   "outputs": [
    {
     "data": {
      "text/plain": [
       "Index(['NotCount', 'YesCount', 'ATPM', 'PFD', 'PFG', 'SFD', 'SFG', 'WP', 'WS',\n",
       "       'AH', 'AN', 'Status', 'FNC'],\n",
       "      dtype='object')"
      ]
     },
     "execution_count": 20,
     "metadata": {},
     "output_type": "execute_result"
    }
   ],
   "source": [
    "df.columns"
   ]
  }
 ],
 "metadata": {
  "kernelspec": {
   "display_name": "python3.11_env",
   "language": "python",
   "name": "python3"
  },
  "language_info": {
   "codemirror_mode": {
    "name": "ipython",
    "version": 3
   },
   "file_extension": ".py",
   "mimetype": "text/x-python",
   "name": "python",
   "nbconvert_exporter": "python",
   "pygments_lexer": "ipython3",
   "version": "3.11.0"
  }
 },
 "nbformat": 4,
 "nbformat_minor": 2
}
