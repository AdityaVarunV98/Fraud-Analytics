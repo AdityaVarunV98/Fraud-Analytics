{
 "cells": [
  {
   "cell_type": "code",
   "execution_count": 10,
   "metadata": {},
   "outputs": [],
   "source": [
    "import pandas as pd\n",
    "import numpy as np\n",
    "import matplotlib.pyplot as plt\n",
    "\n",
    "import torch\n",
    "import torch.nn as nn\n",
    "import torch.optim as optim\n",
    "from torch.utils.data import DataLoader, Dataset, TensorDataset, random_split"
   ]
  },
  {
   "cell_type": "code",
   "execution_count": 11,
   "metadata": {},
   "outputs": [],
   "source": [
    "df = pd.read_csv('Data/costSensitive.csv')"
   ]
  },
  {
   "cell_type": "code",
   "execution_count": 12,
   "metadata": {},
   "outputs": [
    {
     "data": {
      "text/plain": [
       "Index(['NotCount', 'YesCount', 'ATPM', 'PFD', 'PFG', 'SFD', 'SFG', 'WP', 'WS',\n",
       "       'AH', 'AN', 'Status', 'FNC'],\n",
       "      dtype='object')"
      ]
     },
     "execution_count": 12,
     "metadata": {},
     "output_type": "execute_result"
    }
   ],
   "source": [
    "df.columns"
   ]
  },
  {
   "cell_type": "code",
   "execution_count": 13,
   "metadata": {},
   "outputs": [
    {
     "name": "stdout",
     "output_type": "stream",
     "text": [
      "(147636, 13)\n"
     ]
    }
   ],
   "source": [
    "data = df.values\n",
    "print(data.shape)"
   ]
  },
  {
   "cell_type": "code",
   "execution_count": 14,
   "metadata": {},
   "outputs": [
    {
     "data": {
      "text/plain": [
       "(147636, 11)"
      ]
     },
     "execution_count": 14,
     "metadata": {},
     "output_type": "execute_result"
    }
   ],
   "source": [
    "X = data[:, :-2]\n",
    "\n",
    "# Normalize the data (Z-score)\n",
    "X = (X - X.mean(axis=0)) / X.std(axis=0)\n",
    "\n",
    "X.shape"
   ]
  },
  {
   "cell_type": "code",
   "execution_count": 15,
   "metadata": {},
   "outputs": [
    {
     "data": {
      "text/plain": [
       "(147636,)"
      ]
     },
     "execution_count": 15,
     "metadata": {},
     "output_type": "execute_result"
    }
   ],
   "source": [
    "y = data[:, -2]\n",
    "\n",
    "y.shape"
   ]
  },
  {
   "cell_type": "code",
   "execution_count": 16,
   "metadata": {},
   "outputs": [
    {
     "data": {
      "text/plain": [
       "(147636,)"
      ]
     },
     "execution_count": 16,
     "metadata": {},
     "output_type": "execute_result"
    }
   ],
   "source": [
    "fnc = data[:, -1]\n",
    "\n",
    "fnc.shape"
   ]
  },
  {
   "cell_type": "code",
   "execution_count": 17,
   "metadata": {},
   "outputs": [
    {
     "name": "stdout",
     "output_type": "stream",
     "text": [
      "103345 22145 22146\n",
      "1 1 1\n",
      "torch.Size([103345, 11]) torch.Size([103345]) torch.Size([103345])\n"
     ]
    }
   ],
   "source": [
    "# OBtaining the train, val, test loaders\n",
    "\n",
    "X_tensor = torch.tensor(X, dtype=torch.float32)\n",
    "y_tensor = torch.tensor(y, dtype=torch.float32)  \n",
    "fnc_tensor = torch.tensor(fnc, dtype=torch.float32)\n",
    "\n",
    "train_size = int(0.7 * len(X))\n",
    "val_size = int(0.15 * len(X))\n",
    "test_size = len(X) - train_size - val_size  \n",
    "\n",
    "dataset = TensorDataset(X_tensor, y_tensor, fnc_tensor)\n",
    "\n",
    "train_dataset, val_dataset, test_dataset = random_split(dataset, [train_size, val_size, test_size])\n",
    "\n",
    "print(len(train_dataset), len(val_dataset), len(test_dataset))\n",
    "\n",
    "train_loader = DataLoader(train_dataset, batch_size=147636, shuffle=False)\n",
    "val_loader = DataLoader(val_dataset, batch_size=147636, shuffle=False)\n",
    "test_loader = DataLoader(test_dataset, batch_size=147636, shuffle=False)\n",
    "\n",
    "print(len(train_loader), len(val_loader), len(test_loader))\n",
    "\n",
    "for (x, y, fnc) in train_loader:\n",
    "    print(x.shape, y.shape, fnc.shape)\n",
    "    break"
   ]
  },
  {
   "cell_type": "code",
   "execution_count": 18,
   "metadata": {},
   "outputs": [],
   "source": [
    "class LogisticRegression(nn.Module):\n",
    "    def __init__(self, num_inputs, num_outputs):\n",
    "        super(LogisticRegression, self).__init__()\n",
    "        self.linear = nn.Linear(num_inputs, num_outputs)\n",
    "        \n",
    "    def forward(self, x):\n",
    "        y = self.linear(x)\n",
    "        return y.reshape((y.shape[0],))"
   ]
  },
  {
   "cell_type": "code",
   "execution_count": 19,
   "metadata": {},
   "outputs": [
    {
     "name": "stdout",
     "output_type": "stream",
     "text": [
      "Epoch 0: train loss = 0.584783136844635, validation loss = 0.5682442784309387\n",
      "Epoch 1: train loss = 0.5669703483581543, validation loss = 0.5518988966941833\n",
      "Epoch 2: train loss = 0.5507109761238098, validation loss = 0.5369513034820557\n",
      "Epoch 3: train loss = 0.5358461141586304, validation loss = 0.5232575535774231\n",
      "Epoch 4: train loss = 0.5222320556640625, validation loss = 0.5106909275054932\n",
      "Epoch 5: train loss = 0.5097426772117615, validation loss = 0.4991375505924225\n",
      "Epoch 6: train loss = 0.49826446175575256, validation loss = 0.48849648237228394\n",
      "Epoch 7: train loss = 0.48769643902778625, validation loss = 0.47867879271507263\n",
      "Epoch 8: train loss = 0.4779497981071472, validation loss = 0.4696043133735657\n",
      "Epoch 9: train loss = 0.4689447283744812, validation loss = 0.46120181679725647\n",
      "Epoch 10: train loss = 0.4606097936630249, validation loss = 0.45340898633003235\n",
      "Epoch 11: train loss = 0.4528829753398895, validation loss = 0.4461691975593567\n",
      "Epoch 12: train loss = 0.4457075595855713, validation loss = 0.43943214416503906\n",
      "Epoch 13: train loss = 0.4390333294868469, validation loss = 0.4331532418727875\n",
      "Epoch 14: train loss = 0.4328157901763916, validation loss = 0.42729201912879944\n",
      "Epoch 15: train loss = 0.42701441049575806, validation loss = 0.4218127727508545\n",
      "Epoch 16: train loss = 0.4215935468673706, validation loss = 0.41668274998664856\n",
      "Epoch 17: train loss = 0.41652047634124756, validation loss = 0.41187337040901184\n",
      "Epoch 18: train loss = 0.4117667078971863, validation loss = 0.40735840797424316\n",
      "Epoch 19: train loss = 0.4073059558868408, validation loss = 0.40311431884765625\n",
      "Epoch 20: train loss = 0.4031147062778473, validation loss = 0.3991197943687439\n",
      "Epoch 21: train loss = 0.39917176961898804, validation loss = 0.39535555243492126\n",
      "Epoch 22: train loss = 0.3954577147960663, validation loss = 0.39180415868759155\n",
      "Epoch 23: train loss = 0.39195531606674194, validation loss = 0.38844993710517883\n",
      "Epoch 24: train loss = 0.38864871859550476, validation loss = 0.3852783441543579\n",
      "Epoch 25: train loss = 0.38552355766296387, validation loss = 0.38227638602256775\n",
      "Epoch 26: train loss = 0.38256677985191345, validation loss = 0.37943220138549805\n",
      "Epoch 27: train loss = 0.3797665238380432, validation loss = 0.37673479318618774\n",
      "Epoch 28: train loss = 0.3771117925643921, validation loss = 0.37417420744895935\n",
      "Epoch 29: train loss = 0.37459269165992737, validation loss = 0.37174132466316223\n",
      "Epoch 30: train loss = 0.372200071811676, validation loss = 0.3694278299808502\n",
      "Epoch 31: train loss = 0.36992567777633667, validation loss = 0.3672259449958801\n",
      "Epoch 32: train loss = 0.3677617311477661, validation loss = 0.3651285469532013\n",
      "Epoch 33: train loss = 0.36570116877555847, validation loss = 0.36312931776046753\n",
      "Epoch 34: train loss = 0.3637375831604004, validation loss = 0.3612220585346222\n",
      "Epoch 35: train loss = 0.3618650436401367, validation loss = 0.35940131545066833\n",
      "Epoch 36: train loss = 0.360077828168869, validation loss = 0.35766181349754333\n",
      "Epoch 37: train loss = 0.35837090015411377, validation loss = 0.3559989333152771\n",
      "Epoch 38: train loss = 0.35673952102661133, validation loss = 0.35440829396247864\n",
      "Epoch 39: train loss = 0.3551795482635498, validation loss = 0.35288572311401367\n",
      "Epoch 40: train loss = 0.3536866009235382, validation loss = 0.35142749547958374\n",
      "Epoch 41: train loss = 0.3522571623325348, validation loss = 0.3500300645828247\n",
      "Epoch 42: train loss = 0.350887656211853, validation loss = 0.3486902415752411\n",
      "Epoch 43: train loss = 0.34957483410835266, validation loss = 0.34740498661994934\n",
      "Epoch 44: train loss = 0.3483157157897949, validation loss = 0.34617143869400024\n",
      "Epoch 45: train loss = 0.347107470035553, validation loss = 0.34498700499534607\n",
      "Epoch 46: train loss = 0.3459474444389343, validation loss = 0.3438492715358734\n",
      "Epoch 47: train loss = 0.3448331952095032, validation loss = 0.34275585412979126\n",
      "Epoch 48: train loss = 0.3437623679637909, validation loss = 0.3417045772075653\n",
      "Epoch 49: train loss = 0.3427327275276184, validation loss = 0.3406933844089508\n",
      "Epoch 50: train loss = 0.34174227714538574, validation loss = 0.33972033858299255\n",
      "Epoch 51: train loss = 0.34078896045684814, validation loss = 0.33878353238105774\n",
      "Epoch 52: train loss = 0.33987095952033997, validation loss = 0.33788126707077026\n",
      "Epoch 53: train loss = 0.33898651599884033, validation loss = 0.33701181411743164\n",
      "Epoch 54: train loss = 0.33813410997390747, validation loss = 0.3361736238002777\n",
      "Epoch 55: train loss = 0.33731207251548767, validation loss = 0.3353651762008667\n",
      "Epoch 56: train loss = 0.3365189731121063, validation loss = 0.3345851004123688\n",
      "Epoch 57: train loss = 0.33575356006622314, validation loss = 0.3338320255279541\n",
      "Epoch 58: train loss = 0.3350144624710083, validation loss = 0.33310478925704956\n",
      "Epoch 59: train loss = 0.33430054783821106, validation loss = 0.3324021100997925\n",
      "Epoch 60: train loss = 0.3336106538772583, validation loss = 0.3317229449748993\n",
      "Epoch 61: train loss = 0.33294370770454407, validation loss = 0.33106616139411926\n",
      "Epoch 62: train loss = 0.33229875564575195, validation loss = 0.33043089509010315\n",
      "Epoch 63: train loss = 0.33167484402656555, validation loss = 0.3298161029815674\n",
      "Epoch 64: train loss = 0.3310711085796356, validation loss = 0.3292209506034851\n",
      "Epoch 65: train loss = 0.3304866552352905, validation loss = 0.32864466309547424\n",
      "Epoch 66: train loss = 0.3299207091331482, validation loss = 0.32808634638786316\n",
      "Epoch 67: train loss = 0.3293725252151489, validation loss = 0.3275453746318817\n",
      "Epoch 68: train loss = 0.32884135842323303, validation loss = 0.32702091336250305\n",
      "Epoch 69: train loss = 0.328326553106308, validation loss = 0.3265124261379242\n",
      "Epoch 70: train loss = 0.32782745361328125, validation loss = 0.3260192275047302\n",
      "Epoch 71: train loss = 0.3273434340953827, validation loss = 0.3255407214164734\n",
      "Epoch 72: train loss = 0.3268739581108093, validation loss = 0.3250763714313507\n",
      "Epoch 73: train loss = 0.326418399810791, validation loss = 0.32462555170059204\n",
      "Epoch 74: train loss = 0.32597628235816956, validation loss = 0.32418787479400635\n",
      "Epoch 75: train loss = 0.3255470395088196, validation loss = 0.3237627148628235\n",
      "Epoch 76: train loss = 0.32513031363487244, validation loss = 0.3233497440814972\n",
      "Epoch 77: train loss = 0.32472550868988037, validation loss = 0.3229484558105469\n",
      "Epoch 78: train loss = 0.32433226704597473, validation loss = 0.3225584030151367\n",
      "Epoch 79: train loss = 0.3239502012729645, validation loss = 0.32217922806739807\n",
      "Epoch 80: train loss = 0.3235788345336914, validation loss = 0.3218104839324951\n",
      "Epoch 81: train loss = 0.32321780920028687, validation loss = 0.32145190238952637\n",
      "Epoch 82: train loss = 0.3228667974472046, validation loss = 0.3211030662059784\n",
      "Epoch 83: train loss = 0.32252535223960876, validation loss = 0.32076361775398254\n",
      "Epoch 84: train loss = 0.3221932649612427, validation loss = 0.32043325901031494\n",
      "Epoch 85: train loss = 0.3218701481819153, validation loss = 0.3201116621494293\n",
      "Epoch 86: train loss = 0.3215557336807251, validation loss = 0.31979864835739136\n",
      "Epoch 87: train loss = 0.32124966382980347, validation loss = 0.3194938004016876\n",
      "Epoch 88: train loss = 0.3209517300128937, validation loss = 0.3191968500614166\n",
      "Epoch 89: train loss = 0.32066160440444946, validation loss = 0.31890761852264404\n",
      "Epoch 90: train loss = 0.3203791081905365, validation loss = 0.318625807762146\n",
      "Epoch 91: train loss = 0.3201039433479309, validation loss = 0.3183511793613434\n",
      "Epoch 92: train loss = 0.3198358416557312, validation loss = 0.3180835247039795\n",
      "Epoch 93: train loss = 0.31957459449768066, validation loss = 0.31782257556915283\n",
      "Epoch 94: train loss = 0.31932002305984497, validation loss = 0.3175681531429291\n",
      "Epoch 95: train loss = 0.319071888923645, validation loss = 0.3173200786113739\n",
      "Epoch 96: train loss = 0.3188300132751465, validation loss = 0.3170781433582306\n",
      "Epoch 97: train loss = 0.31859415769577026, validation loss = 0.31684210896492004\n",
      "Epoch 98: train loss = 0.31836414337158203, validation loss = 0.3166118264198303\n",
      "Epoch 99: train loss = 0.31813982129096985, validation loss = 0.3163871467113495\n"
     ]
    },
    {
     "data": {
      "image/png": "[encoded data removed]",
      "text/plain": [
       "<Figure size 640x480 with 1 Axes>"
      ]
     },
     "metadata": {},
     "output_type": "display_data"
    }
   ],
   "source": [
    "# Define the hyperparameters\n",
    "num_inputs, num_outputs = X.shape[1], 1\n",
    "num_epochs = 100\n",
    "lr = 0.1\n",
    "\n",
    "# Instantiate the model, opt, criterion\n",
    "logreg = LogisticRegression(num_inputs, num_outputs)\n",
    "optimizer = torch.optim.SGD(logreg.parameters(), lr=lr)\n",
    "criterion = torch.nn.BCEWithLogitsLoss()\n",
    "\n",
    "train_losses = []\n",
    "val_losses = []\n",
    "\n",
    "# Train the model\n",
    "for i in range(num_epochs):\n",
    "    logreg.train()\n",
    "    cost = 0\n",
    "    for (X, y_true, fnc) in train_loader:\n",
    "        optimizer.zero_grad()\n",
    "        \n",
    "        y_pred = logreg(X)\n",
    "        \n",
    "        loss = criterion(y_pred, y_true)\n",
    "        \n",
    "        cost += loss.item()\n",
    "        \n",
    "        loss.backward()\n",
    "        optimizer.step()\n",
    "        \n",
    "        \n",
    "    cost/=len(train_loader)\n",
    "    train_losses.append(cost)\n",
    "    \n",
    "    val_cost = 0\n",
    "    for (X, y_true, fnc) in val_loader:\n",
    "        logreg.eval()\n",
    "        \n",
    "        y_pred = logreg(X)\n",
    "        loss = criterion(y_pred, y_true)\n",
    "        \n",
    "        val_cost += loss.item()\n",
    "        \n",
    "        \n",
    "    val_cost/=len(val_loader)\n",
    "    val_losses.append(val_cost)\n",
    "    \n",
    "    print(f\"Epoch {i}: train loss = {cost}, validation loss = {val_cost}\")\n",
    "\n",
    "# Plot the losses\n",
    "plt.plot(train_losses, label='Train Loss')\n",
    "plt.plot(val_losses, label='Val Loss')\n",
    "plt.legend()\n",
    "plt.grid()\n",
    "plt.show()"
   ]
  },
  {
   "cell_type": "code",
   "execution_count": 20,
   "metadata": {},
   "outputs": [
    {
     "name": "stdout",
     "output_type": "stream",
     "text": [
      "Train Data Results\n",
      "              precision    recall  f1-score   support\n",
      "\n",
      "         0.0     0.8962    0.9154    0.9057     72537\n",
      "         1.0     0.7903    0.7505    0.7699     30808\n",
      "\n",
      "    accuracy                         0.8662    103345\n",
      "   macro avg     0.8433    0.8329    0.8378    103345\n",
      "weighted avg     0.8647    0.8662    0.8652    103345\n",
      "\n",
      "Val Data Results\n",
      "              precision    recall  f1-score   support\n",
      "\n",
      "         0.0     0.8980    0.9134    0.9056     15548\n",
      "         1.0     0.7872    0.7555    0.7710      6597\n",
      "\n",
      "    accuracy                         0.8663     22145\n",
      "   macro avg     0.8426    0.8344    0.8383     22145\n",
      "weighted avg     0.8650    0.8663    0.8655     22145\n",
      "\n",
      "Test Data Results\n",
      "              precision    recall  f1-score   support\n",
      "\n",
      "         0.0     0.8913    0.9175    0.9042     15469\n",
      "         1.0     0.7949    0.7408    0.7669      6677\n",
      "\n",
      "    accuracy                         0.8642     22146\n",
      "   macro avg     0.8431    0.8291    0.8355     22146\n",
      "weighted avg     0.8622    0.8642    0.8628     22146\n",
      "\n"
     ]
    }
   ],
   "source": [
    "from sklearn.metrics import classification_report\n",
    "\n",
    "logreg.eval()\n",
    "\n",
    "train_true = []\n",
    "train_pred = []\n",
    "\n",
    "val_true = []\n",
    "val_pred = []\n",
    "\n",
    "test_true = []\n",
    "test_pred = []\n",
    "\n",
    "threshold = 0.5 \n",
    "\n",
    "for (X, y_true, fnc) in train_loader:\n",
    "    y_pred = torch.sigmoid(logreg(X)) \n",
    "    \n",
    "    y_pred_binary = (y_pred >= threshold).float()\n",
    "\n",
    "    train_true.extend(y_true) \n",
    "    train_pred.extend(y_pred_binary)\n",
    "\n",
    "print(\"Train Data Results\")\n",
    "print(classification_report(train_true, train_pred, digits=4))\n",
    "\n",
    "\n",
    "for (X, y_true, fnc) in val_loader:\n",
    "    y_pred = torch.sigmoid(logreg(X)) \n",
    "    \n",
    "    y_pred_binary = (y_pred >= threshold).float()\n",
    "\n",
    "    val_true.extend(y_true) \n",
    "    val_pred.extend(y_pred_binary)\n",
    "\n",
    "print(\"Val Data Results\")\n",
    "print(classification_report(val_true, val_pred, digits=4))\n",
    "\n",
    "\n",
    "for (X, y_true, fnc) in test_loader:\n",
    "    y_pred = torch.sigmoid(logreg(X)) \n",
    "\n",
    "    y_pred_binary = (y_pred >= threshold).float()\n",
    "\n",
    "    test_true.extend(y_true) \n",
    "    test_pred.extend(y_pred_binary)\n",
    "\n",
    "print(\"Test Data Results\")\n",
    "print(classification_report(test_true, test_pred, digits=4))\n"
   ]
  },
  {
   "cell_type": "code",
   "execution_count": 27,
   "metadata": {},
   "outputs": [
    {
     "data": {
      "image/png": "[encoded data removed]",
      "text/plain": [
       "<Figure size 800x600 with 1 Axes>"
      ]
     },
     "metadata": {},
     "output_type": "display_data"
    }
   ],
   "source": [
    "# Threshold vs cost?\n",
    "\n",
    "tpc = 3      \n",
    "fpc = 3      \n",
    "tnc = 0      \n",
    "\n",
    "thresholds = np.linspace(0.0, 0.9, 10)  \n",
    "# thresholds = [0]\n",
    "costs = []  \n",
    "\n",
    "logreg.eval()\n",
    "\n",
    "\n",
    "for threshold in thresholds:\n",
    "    total_cost = 0  \n",
    "    \n",
    "    with torch.no_grad():\n",
    "        for (X, y_true, fnc) in train_loader:\n",
    "            X = X.to(torch.float32)\n",
    "            \n",
    "            y_pred = torch.sigmoid(logreg(X)) \n",
    "            \n",
    "            y_pred_binary = (y_pred >= threshold).float()\n",
    "            \n",
    "            batch_cost = torch.sum(\n",
    "                y_true * (y_pred_binary * tpc + (1 - y_pred_binary) * fnc) +\n",
    "                (1 - y_true) * (y_pred_binary * fpc + (1 - y_pred_binary) * tnc)\n",
    "            ).item()  \n",
    "            \n",
    "            total_cost += batch_cost  \n",
    "    \n",
    "    costs.append(total_cost)  \n",
    "\n",
    "plt.figure(figsize=(8,6))\n",
    "plt.bar(thresholds, costs, width=0.07, color='b', alpha=0.7)\n",
    "plt.xlabel(\"Threshold\")\n",
    "plt.ylabel(\"Total Cost\")\n",
    "plt.title(\"Train Cost vs Threshold\")\n",
    "plt.xticks(thresholds)\n",
    "plt.grid(axis='y')\n",
    "plt.show()\n"
   ]
  }
 ],
 "metadata": {
  "kernelspec": {
   "display_name": "python3.11_env",
   "language": "python",
   "name": "python3"
  },
  "language_info": {
   "codemirror_mode": {
    "name": "ipython",
    "version": 3
   },
   "file_extension": ".py",
   "mimetype": "text/x-python",
   "name": "python",
   "nbconvert_exporter": "python",
   "pygments_lexer": "ipython3",
   "version": "3.11.0"
  }
 },
 "nbformat": 4,
 "nbformat_minor": 2
}
