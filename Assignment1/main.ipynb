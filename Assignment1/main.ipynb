{
 "cells": [
  {
   "cell_type": "code",
   "execution_count": 1,
   "metadata": {},
   "outputs": [],
   "source": [
    "import csv\n",
    "import pandas as pd"
   ]
  },
  {
   "cell_type": "code",
   "execution_count": 6,
   "metadata": {},
   "outputs": [],
   "source": [
    "df_transactions = pd.read_csv(\"Data/Payments.csv\")"
   ]
  },
  {
   "cell_type": "code",
   "execution_count": 7,
   "metadata": {},
   "outputs": [
    {
     "name": "stdout",
     "output_type": "stream",
     "text": [
      "   Sender  Receiver  Amount\n",
      "0    1309      1011  123051\n",
      "1    1309      1011  118406\n",
      "2    1309      1011  112456\n",
      "3    1309      1011  120593\n",
      "4    1309      1011  166396\n",
      "<class 'pandas.core.frame.DataFrame'>\n",
      "RangeIndex: 130535 entries, 0 to 130534\n",
      "Data columns (total 3 columns):\n",
      " #   Column    Non-Null Count   Dtype\n",
      "---  ------    --------------   -----\n",
      " 0   Sender    130535 non-null  int64\n",
      " 1   Receiver  130535 non-null  int64\n",
      " 2   Amount    130535 non-null  int64\n",
      "dtypes: int64(3)\n",
      "memory usage: 3.0 MB\n",
      "None\n",
      "              Sender       Receiver        Amount\n",
      "count  130535.000000  130535.000000  1.305350e+05\n",
      "mean     1309.358287    1182.851258  6.980968e+04\n",
      "std       294.435026     169.809657  5.696676e+04\n",
      "min      1001.000000    1001.000000  1.501000e+03\n",
      "25%      1078.000000    1060.000000  2.411100e+04\n",
      "50%      1214.000000    1112.000000  5.622000e+04\n",
      "75%      1488.000000    1276.000000  1.079405e+05\n",
      "max      2190.000000    1887.000000  2.124500e+06\n",
      "Sender      0\n",
      "Receiver    0\n",
      "Amount      0\n",
      "dtype: int64\n",
      "Index(['Sender', 'Receiver', 'Amount'], dtype='object')\n",
      "(130535, 3)\n",
      "703\n",
      "371\n"
     ]
    }
   ],
   "source": [
    "# Performing preliminary data analysis on the above dataframe\n",
    "print(df_transactions.head())\n",
    "print(df_transactions.info())\n",
    "print(df_transactions.describe())\n",
    "print(df_transactions.isnull().sum())\n",
    "print(df_transactions.columns)\n",
    "print(df_transactions.shape)\n",
    "\n",
    "# Unique values in Sender and Receiver columns combined\n",
    "print(df_transactions['Sender'].nunique())\n",
    "print(df_transactions['Receiver'].nunique())\n"
   ]
  },
  {
   "cell_type": "code",
   "execution_count": 8,
   "metadata": {},
   "outputs": [
    {
     "name": "stdout",
     "output_type": "stream",
     "text": [
      "[(1309, 1011, 123051), (1309, 1011, 118406), (1309, 1011, 112456)]\n",
      "130535\n"
     ]
    }
   ],
   "source": [
    "# Convert to edges list\n",
    "edges = list(df_transactions.itertuples(index=False, name=None))\n",
    "print(edges[0:3])\n",
    "print(len(edges))"
   ]
  },
  {
   "cell_type": "code",
   "execution_count": 14,
   "metadata": {},
   "outputs": [
    {
     "name": "stdout",
     "output_type": "stream",
     "text": [
      "(5358, 3)\n",
      "    sender  receiver    weight\n",
      "0     1001      1037  0.692452\n",
      "1     1001      1136  0.263550\n",
      "2     1001      1246  0.017641\n",
      "3     1001      1358  0.026357\n",
      "4     1002      1003  0.002217\n",
      "5     1002      1008  0.256626\n",
      "6     1002      1023  0.004925\n",
      "7     1002      1034  0.014868\n",
      "8     1002      1037  0.000882\n",
      "9     1002      1060  0.019574\n",
      "10    1002      1068  0.130843\n",
      "11    1002      1072  0.000679\n",
      "12    1002      1101  0.002186\n",
      "13    1002      1105  0.002224\n",
      "14    1002      1108  0.112638\n",
      "15    1002      1112  0.028750\n",
      "16    1002      1175  0.001210\n",
      "17    1002      1180  0.025801\n",
      "18    1002      1189  0.036306\n",
      "19    1002      1194  0.030925\n"
     ]
    }
   ],
   "source": [
    "import pandas as pd\n",
    "\n",
    "df = pd.DataFrame(edges, columns=['sender', 'receiver', 'amount'])\n",
    "\n",
    "total_sent = df.groupby('sender')['amount'].sum().rename('total_sent')\n",
    "\n",
    "df = df.merge(total_sent, on='sender')\n",
    "\n",
    "df['weight'] = df['amount'] / df['total_sent']\n",
    "\n",
    "df_grouped = df.groupby(['sender', 'receiver'])['weight'].sum().reset_index()\n",
    "\n",
    "print(df_grouped.shape)\n",
    "print(df_grouped[:20])"
   ]
  },
  {
   "cell_type": "code",
   "execution_count": 32,
   "metadata": {},
   "outputs": [
    {
     "name": "stdout",
     "output_type": "stream",
     "text": [
      "{1668, 1031, 1161, 1034, 1042, 1303, 1048, 1944, 1562, 1821, 1836, 1076, 1210, 1099, 1489, 1256, 1259, 1007, 1393, 1147}\n",
      "20\n"
     ]
    }
   ],
   "source": [
    "df_badsenders = pd.read_csv(\"Data/bad_sender.csv\")\n",
    "\n",
    "fraud_ids = set(df_badsenders['Bad Sender'])\n",
    "print(fraud_ids)\n",
    "\n",
    "print(len(fraud_ids))"
   ]
  }
 ],
 "metadata": {
  "kernelspec": {
   "display_name": "python3.11_env",
   "language": "python",
   "name": "python3"
  },
  "language_info": {
   "codemirror_mode": {
    "name": "ipython",
    "version": 3
   },
   "file_extension": ".py",
   "mimetype": "text/x-python",
   "name": "python",
   "nbconvert_exporter": "python",
   "pygments_lexer": "ipython3",
   "version": "3.11.0"
  }
 },
 "nbformat": 4,
 "nbformat_minor": 2
}
